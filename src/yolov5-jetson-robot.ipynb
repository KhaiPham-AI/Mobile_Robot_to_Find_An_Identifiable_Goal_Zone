{
 "cells": [
  {
   "cell_type": "code",
   "execution_count": 1,
   "id": "3ed3e90a",
   "metadata": {
    "_cell_guid": "b1076dfc-b9ad-4769-8c92-a6c4dae69d19",
    "_uuid": "8f2839f25d086af736a60e9eeb907d3b93b6e0e5",
    "execution": {
     "iopub.execute_input": "2024-07-18T05:24:57.597636Z",
     "iopub.status.busy": "2024-07-18T05:24:57.597309Z",
     "iopub.status.idle": "2024-07-18T05:24:58.636241Z",
     "shell.execute_reply": "2024-07-18T05:24:58.635136Z"
    },
    "papermill": {
     "duration": 1.049189,
     "end_time": "2024-07-18T05:24:58.638682",
     "exception": false,
     "start_time": "2024-07-18T05:24:57.589493",
     "status": "completed"
    },
    "tags": []
   },
   "outputs": [
    {
     "name": "stdout",
     "output_type": "stream",
     "text": [
      "Thu Jul 18 05:24:58 2024       \r\n",
      "+-----------------------------------------------------------------------------------------+\r\n",
      "| NVIDIA-SMI 550.90.07              Driver Version: 550.90.07      CUDA Version: 12.4     |\r\n",
      "|-----------------------------------------+------------------------+----------------------+\r\n",
      "| GPU  Name                 Persistence-M | Bus-Id          Disp.A | Volatile Uncorr. ECC |\r\n",
      "| Fan  Temp   Perf          Pwr:Usage/Cap |           Memory-Usage | GPU-Util  Compute M. |\r\n",
      "|                                         |                        |               MIG M. |\r\n",
      "|=========================================+========================+======================|\r\n",
      "|   0  Tesla P100-PCIE-16GB           Off |   00000000:00:04.0 Off |                    0 |\r\n",
      "| N/A   39C    P0             27W /  250W |       0MiB /  16384MiB |      0%      Default |\r\n",
      "|                                         |                        |                  N/A |\r\n",
      "+-----------------------------------------+------------------------+----------------------+\r\n",
      "                                                                                         \r\n",
      "+-----------------------------------------------------------------------------------------+\r\n",
      "| Processes:                                                                              |\r\n",
      "|  GPU   GI   CI        PID   Type   Process name                              GPU Memory |\r\n",
      "|        ID   ID                                                               Usage      |\r\n",
      "|=========================================================================================|\r\n",
      "|  No running processes found                                                             |\r\n",
      "+-----------------------------------------------------------------------------------------+\r\n"
     ]
    }
   ],
   "source": [
    "!nvidia-smi"
   ]
  },
  {
   "cell_type": "code",
   "execution_count": 2,
   "id": "440d10ec",
   "metadata": {
    "execution": {
     "iopub.execute_input": "2024-07-18T05:24:58.652470Z",
     "iopub.status.busy": "2024-07-18T05:24:58.651917Z",
     "iopub.status.idle": "2024-07-18T05:24:59.644744Z",
     "shell.execute_reply": "2024-07-18T05:24:59.643793Z"
    },
    "papermill": {
     "duration": 1.002148,
     "end_time": "2024-07-18T05:24:59.647057",
     "exception": false,
     "start_time": "2024-07-18T05:24:58.644909",
     "status": "completed"
    },
    "tags": []
   },
   "outputs": [
    {
     "name": "stdout",
     "output_type": "stream",
     "text": [
      "Python 3.10.13\r\n"
     ]
    }
   ],
   "source": [
    "!python --version\n"
   ]
  },
  {
   "cell_type": "code",
   "execution_count": null,
   "id": "89d223e0",
   "metadata": {
    "execution": {
     "iopub.execute_input": "2024-07-18T02:50:50.993062Z",
     "iopub.status.busy": "2024-07-18T02:50:50.992164Z",
     "iopub.status.idle": "2024-07-18T02:50:53.064991Z",
     "shell.execute_reply": "2024-07-18T02:50:53.063626Z",
     "shell.execute_reply.started": "2024-07-18T02:50:50.992999Z"
    },
    "papermill": {
     "duration": null,
     "end_time": null,
     "exception": false,
     "start_time": "2024-07-18T05:24:59.653351",
     "status": "running"
    },
    "tags": []
   },
   "outputs": [],
   "source": [
    "# Create New Conda Environment and Use Conda Channel \n",
    "!conda create -n newCondaEnvironment -c cctbx202208 -y\n",
    "!source /opt/conda/bin/activate newCondaEnvironment && conda install -c cctbx202208 python=3.6 -y\n"
   ]
  },
  {
   "cell_type": "code",
   "execution_count": null,
   "id": "168d4ae0",
   "metadata": {
    "execution": {
     "iopub.execute_input": "2024-07-18T00:51:17.306317Z",
     "iopub.status.busy": "2024-07-18T00:51:17.305917Z",
     "iopub.status.idle": "2024-07-18T00:51:20.433858Z",
     "shell.execute_reply": "2024-07-18T00:51:20.432879Z",
     "shell.execute_reply.started": "2024-07-18T00:51:17.306284Z"
    },
    "papermill": {
     "duration": null,
     "end_time": null,
     "exception": null,
     "start_time": null,
     "status": "pending"
    },
    "tags": []
   },
   "outputs": [],
   "source": [
    "!/opt/conda/envs/newCondaEnvironment/bin/python3 --version\n",
    "!echo 'print(\"Hello, World!\")' > test.py\n",
    "!/opt/conda/envs/newCondaEnvironment/bin/python3 test.py"
   ]
  },
  {
   "cell_type": "code",
   "execution_count": null,
   "id": "c645c293",
   "metadata": {
    "execution": {
     "iopub.execute_input": "2024-07-18T00:51:31.614417Z",
     "iopub.status.busy": "2024-07-18T00:51:31.614016Z",
     "iopub.status.idle": "2024-07-18T00:51:33.626758Z",
     "shell.execute_reply": "2024-07-18T00:51:33.625435Z",
     "shell.execute_reply.started": "2024-07-18T00:51:31.614384Z"
    },
    "papermill": {
     "duration": null,
     "end_time": null,
     "exception": null,
     "start_time": null,
     "status": "pending"
    },
    "tags": []
   },
   "outputs": [],
   "source": [
    "!sudo rm /opt/conda/bin/python3\n",
    "!sudo ln -sf /opt/conda/envs/newCondaEnvironment/bin/python3 /opt/conda/bin/python3"
   ]
  },
  {
   "cell_type": "code",
   "execution_count": null,
   "id": "3fb0ad94",
   "metadata": {
    "execution": {
     "iopub.execute_input": "2024-07-18T00:51:36.068192Z",
     "iopub.status.busy": "2024-07-18T00:51:36.067772Z",
     "iopub.status.idle": "2024-07-18T00:51:38.086783Z",
     "shell.execute_reply": "2024-07-18T00:51:38.085566Z",
     "shell.execute_reply.started": "2024-07-18T00:51:36.068159Z"
    },
    "papermill": {
     "duration": null,
     "end_time": null,
     "exception": null,
     "start_time": null,
     "status": "pending"
    },
    "tags": []
   },
   "outputs": [],
   "source": [
    "!sudo rm /opt/conda/bin/python3\n",
    "!sudo ln -sf /usr/bin/python3.6 /opt/conda/bin/python3"
   ]
  },
  {
   "cell_type": "code",
   "execution_count": null,
   "id": "8d7fafe1",
   "metadata": {
    "execution": {
     "iopub.execute_input": "2024-07-18T00:51:40.330602Z",
     "iopub.status.busy": "2024-07-18T00:51:40.330224Z",
     "iopub.status.idle": "2024-07-18T00:51:42.341242Z",
     "shell.execute_reply": "2024-07-18T00:51:42.339975Z",
     "shell.execute_reply.started": "2024-07-18T00:51:40.330573Z"
    },
    "papermill": {
     "duration": null,
     "end_time": null,
     "exception": null,
     "start_time": null,
     "status": "pending"
    },
    "tags": []
   },
   "outputs": [],
   "source": [
    "!sudo rm /opt/conda/bin/python\n",
    "!sudo ln -s /opt/conda/envs/newCondaEnvironment/bin/python3 /opt/conda/bin/python"
   ]
  },
  {
   "cell_type": "code",
   "execution_count": null,
   "id": "4424aef1",
   "metadata": {
    "execution": {
     "iopub.execute_input": "2024-07-18T00:51:44.276154Z",
     "iopub.status.busy": "2024-07-18T00:51:44.275359Z",
     "iopub.status.idle": "2024-07-18T00:51:45.286234Z",
     "shell.execute_reply": "2024-07-18T00:51:45.285238Z",
     "shell.execute_reply.started": "2024-07-18T00:51:44.276120Z"
    },
    "papermill": {
     "duration": null,
     "end_time": null,
     "exception": null,
     "start_time": null,
     "status": "pending"
    },
    "tags": []
   },
   "outputs": [],
   "source": [
    "!python --version"
   ]
  },
  {
   "cell_type": "code",
   "execution_count": null,
   "id": "8a5e70a2",
   "metadata": {
    "execution": {
     "iopub.execute_input": "2024-07-17T14:41:44.637127Z",
     "iopub.status.busy": "2024-07-17T14:41:44.636747Z",
     "iopub.status.idle": "2024-07-17T14:41:44.828196Z",
     "shell.execute_reply": "2024-07-17T14:41:44.827459Z",
     "shell.execute_reply.started": "2024-07-17T14:41:44.637097Z"
    },
    "papermill": {
     "duration": null,
     "end_time": null,
     "exception": null,
     "start_time": null,
     "status": "pending"
    },
    "tags": []
   },
   "outputs": [],
   "source": [
    "import cv2\n",
    "import os\n",
    "import numpy as np\n",
    "import random\n",
    "#from ultralytics import YOLO\n",
    "#import ultralytics\n",
    "import shutil"
   ]
  },
  {
   "cell_type": "code",
   "execution_count": null,
   "id": "3b06f1dc",
   "metadata": {
    "execution": {
     "iopub.execute_input": "2024-07-18T00:51:48.989057Z",
     "iopub.status.busy": "2024-07-18T00:51:48.988340Z",
     "iopub.status.idle": "2024-07-18T00:51:51.331410Z",
     "shell.execute_reply": "2024-07-18T00:51:51.330419Z",
     "shell.execute_reply.started": "2024-07-18T00:51:48.989005Z"
    },
    "papermill": {
     "duration": null,
     "end_time": null,
     "exception": null,
     "start_time": null,
     "status": "pending"
    },
    "tags": []
   },
   "outputs": [],
   "source": [
    "!git clone https://github.com/fei4xu/yolov5-python3.6.9-jetson.git"
   ]
  },
  {
   "cell_type": "code",
   "execution_count": null,
   "id": "45279583",
   "metadata": {
    "execution": {
     "iopub.execute_input": "2024-07-18T00:51:55.872249Z",
     "iopub.status.busy": "2024-07-18T00:51:55.871485Z",
     "iopub.status.idle": "2024-07-18T00:51:55.878684Z",
     "shell.execute_reply": "2024-07-18T00:51:55.877842Z",
     "shell.execute_reply.started": "2024-07-18T00:51:55.872216Z"
    },
    "papermill": {
     "duration": null,
     "end_time": null,
     "exception": null,
     "start_time": null,
     "status": "pending"
    },
    "tags": []
   },
   "outputs": [],
   "source": [
    "%cd yolov5-python3.6.9-jetson"
   ]
  },
  {
   "cell_type": "code",
   "execution_count": null,
   "id": "703dedae",
   "metadata": {
    "execution": {
     "iopub.execute_input": "2024-07-18T00:51:59.323205Z",
     "iopub.status.busy": "2024-07-18T00:51:59.322521Z",
     "iopub.status.idle": "2024-07-18T00:52:04.952490Z",
     "shell.execute_reply": "2024-07-18T00:52:04.951490Z",
     "shell.execute_reply.started": "2024-07-18T00:51:59.323172Z"
    },
    "papermill": {
     "duration": null,
     "end_time": null,
     "exception": null,
     "start_time": null,
     "status": "pending"
    },
    "tags": []
   },
   "outputs": [],
   "source": [
    "!/opt/conda/envs/newCondaEnvironment/bin/python3 -m pip install numpy\n"
   ]
  },
  {
   "cell_type": "code",
   "execution_count": null,
   "id": "929f35de",
   "metadata": {
    "execution": {
     "iopub.execute_input": "2024-07-18T00:52:14.117055Z",
     "iopub.status.busy": "2024-07-18T00:52:14.116214Z",
     "iopub.status.idle": "2024-07-18T00:53:42.685177Z",
     "shell.execute_reply": "2024-07-18T00:53:42.684025Z",
     "shell.execute_reply.started": "2024-07-18T00:52:14.116998Z"
    },
    "papermill": {
     "duration": null,
     "end_time": null,
     "exception": null,
     "start_time": null,
     "status": "pending"
    },
    "tags": []
   },
   "outputs": [],
   "source": [
    "!/opt/conda/envs/newCondaEnvironment/bin/python3 -m pip install -qr requirements.txt"
   ]
  },
  {
   "cell_type": "code",
   "execution_count": null,
   "id": "531353c6",
   "metadata": {
    "execution": {
     "iopub.execute_input": "2024-07-18T00:54:17.781969Z",
     "iopub.status.busy": "2024-07-18T00:54:17.781600Z",
     "iopub.status.idle": "2024-07-18T00:54:22.580936Z",
     "shell.execute_reply": "2024-07-18T00:54:22.579684Z",
     "shell.execute_reply.started": "2024-07-18T00:54:17.781940Z"
    },
    "papermill": {
     "duration": null,
     "end_time": null,
     "exception": null,
     "start_time": null,
     "status": "pending"
    },
    "tags": []
   },
   "outputs": [],
   "source": [
    "!/opt/conda/envs/newCondaEnvironment/bin/python3 -m pip install opencv-python==4.5.1.48"
   ]
  },
  {
   "cell_type": "code",
   "execution_count": null,
   "id": "db7fd95d",
   "metadata": {
    "execution": {
     "iopub.execute_input": "2024-07-18T00:54:31.877158Z",
     "iopub.status.busy": "2024-07-18T00:54:31.876435Z",
     "iopub.status.idle": "2024-07-18T00:54:52.413642Z",
     "shell.execute_reply": "2024-07-18T00:54:52.412375Z",
     "shell.execute_reply.started": "2024-07-18T00:54:31.877115Z"
    },
    "papermill": {
     "duration": null,
     "end_time": null,
     "exception": null,
     "start_time": null,
     "status": "pending"
    },
    "tags": []
   },
   "outputs": [],
   "source": [
    "import wandb\n",
    "import random\n",
    "# start a new wandb run to track this script\n",
    "wandb.init(\n",
    "    # set the wandb project where this run will be logged\n",
    "    project=\"my-awesome-project\",\n",
    "\n",
    "    # track hyperparameters and run metadata\n",
    "    config={\n",
    "    \"learning_rate\": 0.02,\n",
    "    \"architecture\": \"CNN\",\n",
    "    \"dataset\": \"CIFAR-100\",\n",
    "    \"epochs\": 10,\n",
    "    }\n",
    ")"
   ]
  },
  {
   "cell_type": "code",
   "execution_count": null,
   "id": "ae52c8f1",
   "metadata": {
    "execution": {
     "iopub.execute_input": "2024-07-18T02:51:00.351150Z",
     "iopub.status.busy": "2024-07-18T02:51:00.350754Z",
     "iopub.status.idle": "2024-07-18T02:58:31.214702Z",
     "shell.execute_reply": "2024-07-18T02:58:31.213541Z",
     "shell.execute_reply.started": "2024-07-18T02:51:00.351117Z"
    },
    "papermill": {
     "duration": null,
     "end_time": null,
     "exception": null,
     "start_time": null,
     "status": "pending"
    },
    "tags": []
   },
   "outputs": [],
   "source": [
    "# Train YOLOv5 detection\n",
    "!python train.py --img 320 --batch 32 --epochs 100 --data /kaggle/input/label-robot-v2/data_v1.yaml --weights yolov5n.pt --cache"
   ]
  },
  {
   "cell_type": "code",
   "execution_count": null,
   "id": "32d9af42",
   "metadata": {
    "collapsed": true,
    "execution": {
     "iopub.execute_input": "2024-07-18T03:36:51.628167Z",
     "iopub.status.busy": "2024-07-18T03:36:51.627346Z",
     "iopub.status.idle": "2024-07-18T03:37:25.471166Z",
     "shell.execute_reply": "2024-07-18T03:37:25.469763Z",
     "shell.execute_reply.started": "2024-07-18T03:36:51.628122Z"
    },
    "jupyter": {
     "outputs_hidden": true
    },
    "papermill": {
     "duration": null,
     "end_time": null,
     "exception": null,
     "start_time": null,
     "status": "pending"
    },
    "tags": []
   },
   "outputs": [],
   "source": [
    "!cd /kaggle/working/yolov5-python3.6.9-jetson/runs/train/exp3\n",
    "!tar -czvf my_work.zip -C . ."
   ]
  },
  {
   "cell_type": "code",
   "execution_count": null,
   "id": "05978ad6",
   "metadata": {
    "execution": {
     "iopub.execute_input": "2024-07-18T04:36:02.517720Z",
     "iopub.status.busy": "2024-07-18T04:36:02.516867Z",
     "iopub.status.idle": "2024-07-18T04:45:55.088941Z",
     "shell.execute_reply": "2024-07-18T04:45:55.087661Z",
     "shell.execute_reply.started": "2024-07-18T04:36:02.517683Z"
    },
    "papermill": {
     "duration": null,
     "end_time": null,
     "exception": null,
     "start_time": null,
     "status": "pending"
    },
    "tags": []
   },
   "outputs": [],
   "source": [
    "# Train YOLOv5 detection\n",
    "!python train.py --img 320 --batch 32 --epochs 100 --data /kaggle/input/label-robot-v2/data_v1.yaml --weights yolov5s.pt --cache"
   ]
  },
  {
   "cell_type": "code",
   "execution_count": null,
   "id": "f9cd43ae",
   "metadata": {
    "papermill": {
     "duration": null,
     "end_time": null,
     "exception": null,
     "start_time": null,
     "status": "pending"
    },
    "tags": []
   },
   "outputs": [],
   "source": [
    "# Train YOLOv5 detection\n",
    "!python train.py --img 640 --batch 32 --epochs 100 --data /kaggle/input/data-y/data.yaml --weights yolov5m.pt --cache"
   ]
  },
  {
   "cell_type": "code",
   "execution_count": null,
   "id": "30716e0f",
   "metadata": {
    "papermill": {
     "duration": null,
     "end_time": null,
     "exception": null,
     "start_time": null,
     "status": "pending"
    },
    "tags": []
   },
   "outputs": [],
   "source": [
    "# Train YOLOv5 detection\n",
    "!python train.py --img 320 --batch 32 --epochs 100 --data /kaggle/input/label-robot-v1/data.yaml --weights yolov5s.pt --cache"
   ]
  },
  {
   "cell_type": "code",
   "execution_count": null,
   "id": "7e936d09",
   "metadata": {
    "papermill": {
     "duration": null,
     "end_time": null,
     "exception": null,
     "start_time": null,
     "status": "pending"
    },
    "tags": []
   },
   "outputs": [],
   "source": [
    "# Train YOLOv5 detection\n",
    "!python train.py --img 320 --batch 32 --epochs 100 --data /kaggle/input/label-robot-v1/data.yaml --weights yolov5x.pt --cache"
   ]
  }
 ],
 "metadata": {
  "kaggle": {
   "accelerator": "gpu",
   "dataSources": [
    {
     "datasetId": 5386656,
     "sourceId": 8950917,
     "sourceType": "datasetVersion"
    },
    {
     "datasetId": 5372429,
     "sourceId": 8930652,
     "sourceType": "datasetVersion"
    }
   ],
   "dockerImageVersionId": 30747,
   "isGpuEnabled": true,
   "isInternetEnabled": true,
   "language": "python",
   "sourceType": "notebook"
  },
  "kernelspec": {
   "display_name": "Python 3",
   "language": "python",
   "name": "python3"
  },
  "language_info": {
   "codemirror_mode": {
    "name": "ipython",
    "version": 3
   },
   "file_extension": ".py",
   "mimetype": "text/x-python",
   "name": "python",
   "nbconvert_exporter": "python",
   "pygments_lexer": "ipython3",
   "version": "3.10.13"
  },
  "papermill": {
   "default_parameters": {},
   "duration": null,
   "end_time": null,
   "environment_variables": {},
   "exception": null,
   "input_path": "__notebook__.ipynb",
   "output_path": "__notebook__.ipynb",
   "parameters": {},
   "start_time": "2024-07-18T05:24:54.765694",
   "version": "2.5.0"
  }
 },
 "nbformat": 4,
 "nbformat_minor": 5
}